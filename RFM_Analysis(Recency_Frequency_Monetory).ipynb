{
  "nbformat": 4,
  "nbformat_minor": 0,
  "metadata": {
    "colab": {
      "name": "RFM Analysis(Recency Frequency Monetory).ipynb",
      "provenance": [],
      "collapsed_sections": [],
      "include_colab_link": true
    },
    "kernelspec": {
      "name": "python3",
      "display_name": "Python 3"
    }
  },
  "cells": [
    {
      "cell_type": "markdown",
      "metadata": {
        "id": "view-in-github",
        "colab_type": "text"
      },
      "source": [
        "<a href=\"https://colab.research.google.com/github/sachinkun21/Customer_Segmentation-Cohort-Analysis/blob/master/RFM_Analysis(Recency_Frequency_Monetory).ipynb\" target=\"_parent\"><img src=\"https://colab.research.google.com/assets/colab-badge.svg\" alt=\"Open In Colab\"/></a>"
      ]
    },
    {
      "cell_type": "markdown",
      "metadata": {
        "id": "36JaK1sILFaa",
        "colab_type": "text"
      },
      "source": [
        "## Summary:\n",
        "1. Introduction\n",
        "2. Problem Statement"
      ]
    },
    {
      "cell_type": "markdown",
      "metadata": {
        "id": "GRXTHqc-D5ZC",
        "colab_type": "text"
      },
      "source": [
        "### Introduction\n",
        "In this Data Tale, You will learn about customer segmentation technique known as RFM segmentation.\n",
        "\n",
        "Specifically, you will get exposure to \n",
        "- Recency, frequency and monetary value\n",
        "- Create customer segments based on these concepts\n",
        "- Analyze your results.\n",
        "\n",
        "#### What is RFM Segmentation?\n",
        "RFM Segmentation technique is a very popular method of performing Customer Segmentation in Retail Domain.\n",
        "It is based on Behavioral Customer segmentation approach and focuses following 3 customer behaviour Metrics:\n",
        "1. **Recency(R)**: This the measurement of how recent the customers last purchase was.\n",
        "2. **Frequency(F)**: This measurement is for how many times the customer has purchased in the specific time period for which data was collected\n",
        "3. **Monetary(M)**: Measures the total amount the customer has spent during the data collection period.\n",
        "\n"
      ]
    },
    {
      "cell_type": "markdown",
      "metadata": {
        "id": "RgHeI9i_GVyk",
        "colab_type": "text"
      },
      "source": [
        "# 2. Problem Statement\n",
        "In this Data Tale, we will perform Time Cohort Analysis.\n",
        "Time based Cohort analysis groups the customer by the time they completed their first activity.\n",
        "\n",
        "The flow of this Analysis will be:\n",
        "\n",
        "We will calculate these 3 metrics for each customer and then use them to group customers into predefined specfic categories based on Business requirement or Demand, such as: High, Low , Medium"
      ]
    },
    {
      "cell_type": "markdown",
      "metadata": {
        "id": "S3INVcZuNlU9",
        "colab_type": "text"
      },
      "source": [
        "## 3. Data Desription:\n",
        "#### About the dataset.\n",
        "We will use a randomly subsampled subset of the very popular transactional dataset provided by UCI machine Learning Laboratory.\n",
        "\n",
        "\n",
        "**Data Set Information:**\n",
        "\n",
        "This is a transactional data set which contains the transactions occurring between 01/12/2010 and 09/12/2011 for the UK-based a ndregistered non-store online retail firm and contains realistic customer Transaction information in a commonly used format in Industry.\n",
        "\n",
        "\n",
        "#### Information related to attributes of Dataset is:\n",
        "\n",
        "- **InvoiceNo**: Invoice number. Nominal, a 6-digit integral number uniquely assigned to each transaction. \n",
        "- **StockCode**: Product (item) code. Nominal, a 5-digit integral number uniquely assigned to each distinct product. \n",
        "- **Description**: Product (item) name. Nominal. \n",
        "- **Quantity**: The quantities of each product (item) per transaction. Numeric.\n",
        "- **InvoiceDate**: Invice Date and time. Numeric, the day and time when each transaction was generated. \n",
        "- **UnitPrice**: Unit price. Numeric, Product price per unit in sterling. \n",
        "- **CustomerID**: Customer number. Nominal, a 5-digit integral number uniquely assigned to each customer. \n",
        "- **Country**: Country name. Nominal, the name of the country where each customer resides."
      ]
    },
    {
      "cell_type": "markdown",
      "metadata": {
        "id": "xRXZfperG9hl",
        "colab_type": "text"
      },
      "source": [
        "#### Grouping criteria using RFM values\n",
        "\n",
        "In Order to group our customers based on any business metric, we need to decide on number of groups as well as threshold or limits of business metric for each group.\n",
        "\n",
        "There are many ways to decide this. Given below are some of the popular ways to achieve this:\n",
        "\n",
        "- Equal Percentiles: We can divide our customers into groups of Equal size i.e percentiles and assign them corresponding labels. For example, if we select 4 groups than each group will have 25% of total customers.\n",
        "\n",
        "- Pareto 80:20 cut: Pareto Principle states that 80 percent of  outcomes come from 20 percent of inputs. This can extended to E-Commerce domain as well with assumption that 80% of revenue is generated by top 20 percentile of Customers. This 80:20 rule can also be used as a criteria to segment customers into two groups the top 20 or high value customers and remaining 80 i.e Low Value Customers\n",
        "\n",
        "- Custom-based on business knowledge: We can also use existing business knowledge or consult with Subject matter experts(SME's) to decide thresholds and number of segments to be created."
      ]
    },
    {
      "cell_type": "markdown",
      "metadata": {
        "id": "wBG9iqtxE2da",
        "colab_type": "text"
      },
      "source": [
        "### Importing Libraries and transaction Dataset from Drive into Dataframe"
      ]
    },
    {
      "cell_type": "code",
      "metadata": {
        "id": "r2kgtWO8DoHh",
        "colab_type": "code",
        "outputId": "bfa5d45b-9a77-46d2-ca21-d807644526f5",
        "colab": {
          "base_uri": "https://localhost:8080/",
          "height": 34
        }
      },
      "source": [
        "from google.colab import drive\n",
        "drive.mount('/content/drive')"
      ],
      "execution_count": 9,
      "outputs": [
        {
          "output_type": "stream",
          "text": [
            "Drive already mounted at /content/drive; to attempt to forcibly remount, call drive.mount(\"/content/drive\", force_remount=True).\n"
          ],
          "name": "stdout"
        }
      ]
    },
    {
      "cell_type": "code",
      "metadata": {
        "id": "07UnMLccDory",
        "colab_type": "code",
        "outputId": "a3428af7-3062-4f7e-9f55-1e56ab91f354",
        "colab": {
          "base_uri": "https://localhost:8080/",
          "height": 34
        }
      },
      "source": [
        "ls /content/drive/'My Drive'/DataScience"
      ],
      "execution_count": 10,
      "outputs": [
        {
          "output_type": "stream",
          "text": [
            "Employee.csv  Employee_HR.csv  transaction.csv\n"
          ],
          "name": "stdout"
        }
      ]
    },
    {
      "cell_type": "markdown",
      "metadata": {
        "id": "TTjvnjgMN9Jd",
        "colab_type": "text"
      },
      "source": [
        "`transaction.csv` dataset is present, we will use it for this data Tale.\n",
        "\n",
        "Let's import the necessary libraries and Dataset:"
      ]
    },
    {
      "cell_type": "code",
      "metadata": {
        "id": "NM_6NmVgKHMm",
        "colab_type": "code",
        "colab": {
          "base_uri": "https://localhost:8080/",
          "height": 204
        },
        "outputId": "e8cb1f1b-fa82-4b99-cd75-a5a1f55f213a"
      },
      "source": [
        "# linear algebra\n",
        "import numpy as np\n",
        "# data processing\n",
        "import pandas as pd\n",
        "\n",
        "# data visualization\n",
        "import seaborn as sns\n",
        "%matplotlib inline\n",
        "from matplotlib import pyplot as plt\n",
        "from matplotlib import style\n",
        "\n",
        "# Reading transaction.csv into a dataframe with invoice column parsed as DateTime type instead of Object(string) and '0' column as Index\n",
        "df = pd.read_csv('drive/My Drive/DataScience/transaction.csv', parse_dates=['InvoiceDate'], index_col='Unnamed: 0')\n",
        "\n",
        "# Printing top 5 rows of Dataframe\n",
        "df.head()"
      ],
      "execution_count": 18,
      "outputs": [
        {
          "output_type": "execute_result",
          "data": {
            "text/html": [
              "<div>\n",
              "<style scoped>\n",
              "    .dataframe tbody tr th:only-of-type {\n",
              "        vertical-align: middle;\n",
              "    }\n",
              "\n",
              "    .dataframe tbody tr th {\n",
              "        vertical-align: top;\n",
              "    }\n",
              "\n",
              "    .dataframe thead th {\n",
              "        text-align: right;\n",
              "    }\n",
              "</style>\n",
              "<table border=\"1\" class=\"dataframe\">\n",
              "  <thead>\n",
              "    <tr style=\"text-align: right;\">\n",
              "      <th></th>\n",
              "      <th>InvoiceNo</th>\n",
              "      <th>StockCode</th>\n",
              "      <th>Description</th>\n",
              "      <th>Quantity</th>\n",
              "      <th>InvoiceDate</th>\n",
              "      <th>UnitPrice</th>\n",
              "      <th>CustomerID</th>\n",
              "      <th>Country</th>\n",
              "    </tr>\n",
              "  </thead>\n",
              "  <tbody>\n",
              "    <tr>\n",
              "      <th>416792</th>\n",
              "      <td>572558</td>\n",
              "      <td>22745</td>\n",
              "      <td>POPPY'S PLAYHOUSE BEDROOM</td>\n",
              "      <td>6</td>\n",
              "      <td>2011-10-25 08:26:00</td>\n",
              "      <td>2.10</td>\n",
              "      <td>14286</td>\n",
              "      <td>United Kingdom</td>\n",
              "    </tr>\n",
              "    <tr>\n",
              "      <th>482904</th>\n",
              "      <td>577485</td>\n",
              "      <td>23196</td>\n",
              "      <td>VINTAGE LEAF MAGNETIC NOTEPAD</td>\n",
              "      <td>1</td>\n",
              "      <td>2011-11-20 11:56:00</td>\n",
              "      <td>1.45</td>\n",
              "      <td>16360</td>\n",
              "      <td>United Kingdom</td>\n",
              "    </tr>\n",
              "    <tr>\n",
              "      <th>263743</th>\n",
              "      <td>560034</td>\n",
              "      <td>23299</td>\n",
              "      <td>FOOD COVER WITH BEADS SET 2</td>\n",
              "      <td>6</td>\n",
              "      <td>2011-07-14 13:35:00</td>\n",
              "      <td>3.75</td>\n",
              "      <td>13933</td>\n",
              "      <td>United Kingdom</td>\n",
              "    </tr>\n",
              "    <tr>\n",
              "      <th>495549</th>\n",
              "      <td>578307</td>\n",
              "      <td>72349B</td>\n",
              "      <td>SET/6 PURPLE BUTTERFLY T-LIGHTS</td>\n",
              "      <td>1</td>\n",
              "      <td>2011-11-23 15:53:00</td>\n",
              "      <td>2.10</td>\n",
              "      <td>17290</td>\n",
              "      <td>United Kingdom</td>\n",
              "    </tr>\n",
              "    <tr>\n",
              "      <th>204384</th>\n",
              "      <td>554656</td>\n",
              "      <td>21756</td>\n",
              "      <td>BATH BUILDING BLOCK WORD</td>\n",
              "      <td>3</td>\n",
              "      <td>2011-05-25 13:36:00</td>\n",
              "      <td>5.95</td>\n",
              "      <td>17663</td>\n",
              "      <td>United Kingdom</td>\n",
              "    </tr>\n",
              "  </tbody>\n",
              "</table>\n",
              "</div>"
            ],
            "text/plain": [
              "        InvoiceNo StockCode  ... CustomerID         Country\n",
              "416792     572558     22745  ...      14286  United Kingdom\n",
              "482904     577485     23196  ...      16360  United Kingdom\n",
              "263743     560034     23299  ...      13933  United Kingdom\n",
              "495549     578307    72349B  ...      17290  United Kingdom\n",
              "204384     554656     21756  ...      17663  United Kingdom\n",
              "\n",
              "[5 rows x 8 columns]"
            ]
          },
          "metadata": {
            "tags": []
          },
          "execution_count": 18
        }
      ]
    },
    {
      "cell_type": "markdown",
      "metadata": {
        "id": "B1JJPVzYRwO8",
        "colab_type": "text"
      },
      "source": [
        "Let's check the information related to datatypes and Columns in Data Set"
      ]
    },
    {
      "cell_type": "code",
      "metadata": {
        "id": "mGiNii23NENq",
        "colab_type": "code",
        "colab": {
          "base_uri": "https://localhost:8080/",
          "height": 238
        },
        "outputId": "ca77d136-87a5-4295-9dac-0838c87b8d0c"
      },
      "source": [
        "df.info()"
      ],
      "execution_count": 17,
      "outputs": [
        {
          "output_type": "stream",
          "text": [
            "<class 'pandas.core.frame.DataFrame'>\n",
            "Int64Index: 70864 entries, 416792 to 312243\n",
            "Data columns (total 8 columns):\n",
            "InvoiceNo      70864 non-null int64\n",
            "StockCode      70864 non-null object\n",
            "Description    70864 non-null object\n",
            "Quantity       70864 non-null int64\n",
            "InvoiceDate    70864 non-null object\n",
            "UnitPrice      70864 non-null float64\n",
            "CustomerID     70864 non-null int64\n",
            "Country        70864 non-null object\n",
            "dtypes: float64(1), int64(3), object(4)\n",
            "memory usage: 4.9+ MB\n"
          ],
          "name": "stdout"
        }
      ]
    },
    {
      "cell_type": "markdown",
      "metadata": {
        "id": "96rA8881MR_S",
        "colab_type": "text"
      },
      "source": [
        "Now we will calculate fRFM value for each customer\n",
        "\n",
        "\n",
        "Dataset and preparations\n",
        "Same online dataset like in the previous lessons\n",
        "Need to do some data preparation\n",
        "New TotalSum column = Quantity x UnitPrice."
      ]
    },
    {
      "cell_type": "code",
      "metadata": {
        "id": "2IyrImYdF4na",
        "colab_type": "code",
        "colab": {
          "base_uri": "https://localhost:8080/",
          "height": 34
        },
        "outputId": "d220cced-1428-47cb-f336-78ffb77c2cb0"
      },
      "source": [
        "print('Min:{}; Max:{}'.format(min(df.InvoiceDate),max(df.InvoiceDate)))"
      ],
      "execution_count": 19,
      "outputs": [
        {
          "output_type": "stream",
          "text": [
            "Min:2010-12-01 08:26:00; Max:2011-12-09 12:49:00\n"
          ],
          "name": "stdout"
        }
      ]
    },
    {
      "cell_type": "markdown",
      "metadata": {
        "id": "rV3c2ByVM4Kg",
        "colab_type": "text"
      },
      "source": [
        "### Let's create a hypothetical snapshot_day data as if we're doing analysis recently"
      ]
    },
    {
      "cell_type": "code",
      "metadata": {
        "id": "t5PI7txnM4qM",
        "colab_type": "code",
        "colab": {
          "base_uri": "https://localhost:8080/",
          "height": 34
        },
        "outputId": "cf191c01-73d2-4634-eedc-aa534184a95e"
      },
      "source": [
        "import datetime\n",
        "snapshot_date = max(df.InvoiceDate) + datetime.timedelta(days=1)\n",
        "snapshot_date"
      ],
      "execution_count": 20,
      "outputs": [
        {
          "output_type": "execute_result",
          "data": {
            "text/plain": [
              "Timestamp('2011-12-10 12:49:00')"
            ]
          },
          "metadata": {
            "tags": []
          },
          "execution_count": 20
        }
      ]
    },
    {
      "cell_type": "markdown",
      "metadata": {
        "id": "V9EdEv5ILyt9",
        "colab_type": "text"
      },
      "source": [
        "### Calculating RFM metrics:\n",
        "- First we will aggregate our dataset on CustomerID\n",
        "- Then we will perform aggregatation for each unqiue customer ID to calculate RFM values as given below\n",
        "  1. **Recency:** On InvoiceDate column, we will select the max innvoice date of each customer i.e the Latest Transaction Date and Subtract it from our Date of Analysis i.e. current_date value.\n",
        "\n",
        "      This will give us the Recency in number of Days i.e Number of Days since last Transaction\n",
        "  2. **Frequency:** For frequency, we will count the number of times invoice has been generated for each customer.\n",
        "\n",
        "      This will give us total number of times the customer has shopped with us in last 12 Months.\n",
        "\n",
        "  3. **MonetaryValue:** For Monetary Value metric, we will use the BillAmount column generated in previous section and take sum of billAmounts for each customer.\n",
        "\n",
        "      This will give us the Total Revenue Generated per customer."
      ]
    },
    {
      "cell_type": "code",
      "metadata": {
        "id": "RJU6fh8WLzb4",
        "colab_type": "code",
        "colab": {}
      },
      "source": [
        "# Aggregate data on a customer level\n",
        "datamart = online.groupby(['CustomerID']).agg({\n",
        "    'InvoiceDate': lambda x: (snapshot_date - x.max()).days,\n",
        "    'InvoiceNo': 'count',\n",
        "    'TotalSum': 'sum'})"
      ],
      "execution_count": 0,
      "outputs": []
    },
    {
      "cell_type": "markdown",
      "metadata": {
        "id": "88vQKqsxUV_C",
        "colab_type": "text"
      },
      "source": [
        ""
      ]
    },
    {
      "cell_type": "markdown",
      "metadata": {
        "id": "E3vm1oskUV7f",
        "colab_type": "text"
      },
      "source": [
        ""
      ]
    },
    {
      "cell_type": "markdown",
      "metadata": {
        "id": "YupdfhKpUV2s",
        "colab_type": "text"
      },
      "source": [
        "Process of calculating percentiles:\n",
        "\n",
        "Sort customers based on that metric\n",
        "Break customers into a pre-defined number of groups of equal size\n",
        "Assign a label to each group\n",
        "\n",
        "\n",
        "Highest score to the best metric - best is not always highest e.g. recency\n",
        "In this case, the label is inverse - the more recent the customer, the better"
      ]
    },
    {
      "cell_type": "code",
      "metadata": {
        "id": "I7kHAr4nUXQI",
        "colab_type": "code",
        "colab": {}
      },
      "source": [
        ""
      ],
      "execution_count": 0,
      "outputs": []
    }
  ]
}