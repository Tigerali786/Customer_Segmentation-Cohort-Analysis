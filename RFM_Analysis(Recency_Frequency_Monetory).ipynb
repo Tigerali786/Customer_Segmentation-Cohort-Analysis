{
  "nbformat": 4,
  "nbformat_minor": 0,
  "metadata": {
    "colab": {
      "name": "RFM Analysis(Recency Frequency Monetory).ipynb",
      "provenance": [],
      "collapsed_sections": [],
      "include_colab_link": true
    },
    "kernelspec": {
      "name": "python3",
      "display_name": "Python 3"
    }
  },
  "cells": [
    {
      "cell_type": "markdown",
      "metadata": {
        "id": "view-in-github",
        "colab_type": "text"
      },
      "source": [
        "<a href=\"https://colab.research.google.com/github/sachinkun21/Customer_Segmentation-Cohort-Analysis/blob/master/RFM_Analysis(Recency_Frequency_Monetory).ipynb\" target=\"_parent\"><img src=\"https://colab.research.google.com/assets/colab-badge.svg\" alt=\"Open In Colab\"/></a>"
      ]
    },
    {
      "cell_type": "markdown",
      "metadata": {
        "id": "36JaK1sILFaa",
        "colab_type": "text"
      },
      "source": [
        "## Summary:\n",
        "1. Introduction\n",
        "2. Problem Statement"
      ]
    },
    {
      "cell_type": "markdown",
      "metadata": {
        "id": "GRXTHqc-D5ZC",
        "colab_type": "text"
      },
      "source": [
        "### Introduction\n",
        "In this Data Tale, You will learn about customer segmentation technique known as RFM segmentation.\n",
        "\n",
        "Specifically, you will get exposure to \n",
        "- Recency, frequency and monetary value\n",
        "- Create customer segments based on these concepts\n",
        "- Analyze your results.\n",
        "\n",
        "#### What is RFM Segmentation?\n",
        "RFM Segmentation technique is a very popular method of performing Customer Segmentation in Retail Domain.\n",
        "It is based on Behavioral Customer segmentation approach and focuses following 3 customer behaviour Metrics:\n",
        "1. **Recency(R)**: This the measurement of how recent the customers last purchase was.\n",
        "2. **Frequency(F)**: This measurement is for how many times the customer has purchased in the specific time period for which data was collected\n",
        "3. **Monetary(M)**: Measures the total amount the customer has spent during the data collection period.\n",
        "\n"
      ]
    },
    {
      "cell_type": "markdown",
      "metadata": {
        "id": "RgHeI9i_GVyk",
        "colab_type": "text"
      },
      "source": [
        "# 2. Problem Statement\n",
        "In this Data Tale, we will perform Time Cohort Analysis.\n",
        "Time based Cohort analysis groups the customer by the time they completed their first activity.\n",
        "\n",
        "The flow of this Analysis will be:\n",
        "\n",
        "We will calculate these 3 metrics for each customer and then use them to group customers into predefined specfic categories based on Business requirement or Demand, such as: High, Low , Medium"
      ]
    },
    {
      "cell_type": "markdown",
      "metadata": {
        "id": "S3INVcZuNlU9",
        "colab_type": "text"
      },
      "source": [
        "## 3. Data Desription:\n",
        "#### About the dataset.\n",
        "We will use a randomly subsampled subset of the very popular transactional dataset provided by UCI machine Learning Laboratory.\n",
        "\n",
        "\n",
        "**Data Set Information:**\n",
        "\n",
        "This is a transactional data set which contains the transactions occurring between 01/12/2010 and 09/12/2011 for the UK-based a ndregistered non-store online retail firm and contains realistic customer Transaction information in a commonly used format in Industry.\n",
        "\n",
        "\n",
        "#### Information related to attributes of Dataset is:\n",
        "\n",
        "- **InvoiceNo**: Invoice number. Nominal, a 6-digit integral number uniquely assigned to each transaction. \n",
        "- **StockCode**: Product (item) code. Nominal, a 5-digit integral number uniquely assigned to each distinct product. \n",
        "- **Description**: Product (item) name. Nominal. \n",
        "- **Quantity**: The quantities of each product (item) per transaction. Numeric.\n",
        "- **InvoiceDate**: Invice Date and time. Numeric, the day and time when each transaction was generated. \n",
        "- **UnitPrice**: Unit price. Numeric, Product price per unit in sterling. \n",
        "- **CustomerID**: Customer number. Nominal, a 5-digit integral number uniquely assigned to each customer. \n",
        "- **Country**: Country name. Nominal, the name of the country where each customer resides."
      ]
    },
    {
      "cell_type": "markdown",
      "metadata": {
        "id": "xRXZfperG9hl",
        "colab_type": "text"
      },
      "source": [
        "#### Grouping criteria using RFM values\n",
        "\n",
        "In Order to group our customers based on any business metric, we need to decide on number of groups as well as threshold or limits of business metric for each group.\n",
        "\n",
        "There are many ways to decide this. Given below are some of the popular ways to achieve this:\n",
        "\n",
        "- Equal Percentiles: We can divide our customers into groups of Equal size i.e percentiles and assign them corresponding labels. For example, if we select 4 groups than each group will have 25% of total customers.\n",
        "\n",
        "- Pareto 80:20 cut: Pareto Principle states that 80 percent of  outcomes come from 20 percent of inputs. This can extended to E-Commerce domain as well with assumption that 80% of revenue is generated by top 20 percentile of Customers. This 80:20 rule can also be used as a criteria to segment customers into two groups the top 20 or high value customers and remaining 80 i.e Low Value Customers\n",
        "\n",
        "- Custom-based on business knowledge: We can also use existing business knowledge or consult with Subject matter experts(SME's) to decide thresholds and number of segments to be created."
      ]
    },
    {
      "cell_type": "markdown",
      "metadata": {
        "id": "wBG9iqtxE2da",
        "colab_type": "text"
      },
      "source": [
        "### Importing Libraries and transaction Dataset from Drive into Dataframe"
      ]
    },
    {
      "cell_type": "code",
      "metadata": {
        "id": "r2kgtWO8DoHh",
        "colab_type": "code",
        "outputId": "0b05f0ec-fc56-48c7-d612-f6164a03dac4",
        "colab": {
          "base_uri": "https://localhost:8080/",
          "height": 34
        }
      },
      "source": [
        "from google.colab import drive\n",
        "drive.mount('/content/drive')"
      ],
      "execution_count": 27,
      "outputs": [
        {
          "output_type": "stream",
          "text": [
            "Drive already mounted at /content/drive; to attempt to forcibly remount, call drive.mount(\"/content/drive\", force_remount=True).\n"
          ],
          "name": "stdout"
        }
      ]
    },
    {
      "cell_type": "code",
      "metadata": {
        "id": "07UnMLccDory",
        "colab_type": "code",
        "outputId": "38dba8cd-b2fb-4e9d-e114-745c898f8c9d",
        "colab": {
          "base_uri": "https://localhost:8080/",
          "height": 34
        }
      },
      "source": [
        "ls /content/drive/'My Drive'/DataScience"
      ],
      "execution_count": 28,
      "outputs": [
        {
          "output_type": "stream",
          "text": [
            "Employee.csv  Employee_HR.csv  transaction.csv\n"
          ],
          "name": "stdout"
        }
      ]
    },
    {
      "cell_type": "markdown",
      "metadata": {
        "id": "TTjvnjgMN9Jd",
        "colab_type": "text"
      },
      "source": [
        "`transaction.csv` dataset is present, we will use it for this data Tale.\n",
        "\n",
        "Let's import the necessary libraries and Dataset:"
      ]
    },
    {
      "cell_type": "code",
      "metadata": {
        "id": "NM_6NmVgKHMm",
        "colab_type": "code",
        "colab": {
          "base_uri": "https://localhost:8080/",
          "height": 204
        },
        "outputId": "fa909039-a463-4918-9e54-032d8293bcc0"
      },
      "source": [
        "# linear algebra\n",
        "import numpy as np\n",
        "# data processing\n",
        "import pandas as pd\n",
        "\n",
        "# data visualization\n",
        "import seaborn as sns\n",
        "%matplotlib inline\n",
        "from matplotlib import pyplot as plt\n",
        "from matplotlib import style\n",
        "\n",
        "# Reading transaction.csv into a dataframe with invoice column parsed as DateTime type instead of Object(string) and '0' column as Index\n",
        "df = pd.read_csv('drive/My Drive/DataScience/transaction.csv', parse_dates=['InvoiceDate'], index_col='Unnamed: 0')\n",
        "\n",
        "# Printing top 5 rows of Dataframe\n",
        "df.head()"
      ],
      "execution_count": 29,
      "outputs": [
        {
          "output_type": "execute_result",
          "data": {
            "text/html": [
              "<div>\n",
              "<style scoped>\n",
              "    .dataframe tbody tr th:only-of-type {\n",
              "        vertical-align: middle;\n",
              "    }\n",
              "\n",
              "    .dataframe tbody tr th {\n",
              "        vertical-align: top;\n",
              "    }\n",
              "\n",
              "    .dataframe thead th {\n",
              "        text-align: right;\n",
              "    }\n",
              "</style>\n",
              "<table border=\"1\" class=\"dataframe\">\n",
              "  <thead>\n",
              "    <tr style=\"text-align: right;\">\n",
              "      <th></th>\n",
              "      <th>InvoiceNo</th>\n",
              "      <th>StockCode</th>\n",
              "      <th>Description</th>\n",
              "      <th>Quantity</th>\n",
              "      <th>InvoiceDate</th>\n",
              "      <th>UnitPrice</th>\n",
              "      <th>CustomerID</th>\n",
              "      <th>Country</th>\n",
              "    </tr>\n",
              "  </thead>\n",
              "  <tbody>\n",
              "    <tr>\n",
              "      <th>416792</th>\n",
              "      <td>572558</td>\n",
              "      <td>22745</td>\n",
              "      <td>POPPY'S PLAYHOUSE BEDROOM</td>\n",
              "      <td>6</td>\n",
              "      <td>2011-10-25 08:26:00</td>\n",
              "      <td>2.10</td>\n",
              "      <td>14286</td>\n",
              "      <td>United Kingdom</td>\n",
              "    </tr>\n",
              "    <tr>\n",
              "      <th>482904</th>\n",
              "      <td>577485</td>\n",
              "      <td>23196</td>\n",
              "      <td>VINTAGE LEAF MAGNETIC NOTEPAD</td>\n",
              "      <td>1</td>\n",
              "      <td>2011-11-20 11:56:00</td>\n",
              "      <td>1.45</td>\n",
              "      <td>16360</td>\n",
              "      <td>United Kingdom</td>\n",
              "    </tr>\n",
              "    <tr>\n",
              "      <th>263743</th>\n",
              "      <td>560034</td>\n",
              "      <td>23299</td>\n",
              "      <td>FOOD COVER WITH BEADS SET 2</td>\n",
              "      <td>6</td>\n",
              "      <td>2011-07-14 13:35:00</td>\n",
              "      <td>3.75</td>\n",
              "      <td>13933</td>\n",
              "      <td>United Kingdom</td>\n",
              "    </tr>\n",
              "    <tr>\n",
              "      <th>495549</th>\n",
              "      <td>578307</td>\n",
              "      <td>72349B</td>\n",
              "      <td>SET/6 PURPLE BUTTERFLY T-LIGHTS</td>\n",
              "      <td>1</td>\n",
              "      <td>2011-11-23 15:53:00</td>\n",
              "      <td>2.10</td>\n",
              "      <td>17290</td>\n",
              "      <td>United Kingdom</td>\n",
              "    </tr>\n",
              "    <tr>\n",
              "      <th>204384</th>\n",
              "      <td>554656</td>\n",
              "      <td>21756</td>\n",
              "      <td>BATH BUILDING BLOCK WORD</td>\n",
              "      <td>3</td>\n",
              "      <td>2011-05-25 13:36:00</td>\n",
              "      <td>5.95</td>\n",
              "      <td>17663</td>\n",
              "      <td>United Kingdom</td>\n",
              "    </tr>\n",
              "  </tbody>\n",
              "</table>\n",
              "</div>"
            ],
            "text/plain": [
              "        InvoiceNo StockCode  ... CustomerID         Country\n",
              "416792     572558     22745  ...      14286  United Kingdom\n",
              "482904     577485     23196  ...      16360  United Kingdom\n",
              "263743     560034     23299  ...      13933  United Kingdom\n",
              "495549     578307    72349B  ...      17290  United Kingdom\n",
              "204384     554656     21756  ...      17663  United Kingdom\n",
              "\n",
              "[5 rows x 8 columns]"
            ]
          },
          "metadata": {
            "tags": []
          },
          "execution_count": 29
        }
      ]
    },
    {
      "cell_type": "markdown",
      "metadata": {
        "id": "B1JJPVzYRwO8",
        "colab_type": "text"
      },
      "source": [
        "Let's check the information related to datatypes and Columns in Data Set"
      ]
    },
    {
      "cell_type": "code",
      "metadata": {
        "id": "mGiNii23NENq",
        "colab_type": "code",
        "colab": {
          "base_uri": "https://localhost:8080/",
          "height": 238
        },
        "outputId": "1352c511-1a4f-452e-e551-b11c00a4c43b"
      },
      "source": [
        "df.info()"
      ],
      "execution_count": 30,
      "outputs": [
        {
          "output_type": "stream",
          "text": [
            "<class 'pandas.core.frame.DataFrame'>\n",
            "Int64Index: 70864 entries, 416792 to 312243\n",
            "Data columns (total 8 columns):\n",
            "InvoiceNo      70864 non-null int64\n",
            "StockCode      70864 non-null object\n",
            "Description    70864 non-null object\n",
            "Quantity       70864 non-null int64\n",
            "InvoiceDate    70864 non-null datetime64[ns]\n",
            "UnitPrice      70864 non-null float64\n",
            "CustomerID     70864 non-null int64\n",
            "Country        70864 non-null object\n",
            "dtypes: datetime64[ns](1), float64(1), int64(3), object(3)\n",
            "memory usage: 4.9+ MB\n"
          ],
          "name": "stdout"
        }
      ]
    },
    {
      "cell_type": "markdown",
      "metadata": {
        "id": "96rA8881MR_S",
        "colab_type": "text"
      },
      "source": [
        ""
      ]
    },
    {
      "cell_type": "code",
      "metadata": {
        "id": "2IyrImYdF4na",
        "colab_type": "code",
        "colab": {
          "base_uri": "https://localhost:8080/",
          "height": 34
        },
        "outputId": "bcbede34-17e5-4b3a-932a-63ec690006f1"
      },
      "source": [
        "print('Min:{}; Max:{}'.format(min(df.InvoiceDate),max(df.InvoiceDate)))"
      ],
      "execution_count": 31,
      "outputs": [
        {
          "output_type": "stream",
          "text": [
            "Min:2010-12-01 08:26:00; Max:2011-12-09 12:49:00\n"
          ],
          "name": "stdout"
        }
      ]
    },
    {
      "cell_type": "markdown",
      "metadata": {
        "id": "rV3c2ByVM4Kg",
        "colab_type": "text"
      },
      "source": [
        "### Let's create a hypothetical snapshot_day data as if we're doing analysis recently"
      ]
    },
    {
      "cell_type": "code",
      "metadata": {
        "id": "t5PI7txnM4qM",
        "colab_type": "code",
        "colab": {}
      },
      "source": [
        ""
      ],
      "execution_count": 0,
      "outputs": []
    },
    {
      "cell_type": "markdown",
      "metadata": {
        "id": "yvRugoRe27Da",
        "colab_type": "text"
      },
      "source": [
        "#### Dataset and preparations:\n",
        "Before we move onto generate RFM values for each customer, we have to perform some pre-processing and generate following features:\n",
        "- In order to calculate the RFM values we need a reference Date from which we will calculate the Number of Days Since Last Transaction. \n",
        "\n",
        "- We will also need bill amount of each transaction which can be generated as given below:\n",
        "\n",
        "` BillAmount= Quantity x UnitPrice.`\n",
        "\n",
        "we will use this BillAmount column to calculate total revenue generated by each customer."
      ]
    },
    {
      "cell_type": "code",
      "metadata": {
        "id": "msI7F_Jd3AMl",
        "colab_type": "code",
        "colab": {}
      },
      "source": [
        "# Generating BillAmount for each transaction\n",
        "df['BillAmount'] = df['Quantity']*df['UnitPrice']"
      ],
      "execution_count": 0,
      "outputs": []
    },
    {
      "cell_type": "code",
      "metadata": {
        "id": "PBj9x7TB6DW5",
        "colab_type": "code",
        "colab": {
          "base_uri": "https://localhost:8080/",
          "height": 34
        },
        "outputId": "d984c1aa-eefc-4483-9060-8a8d6d7ec18d"
      },
      "source": [
        "# Calculating reference date \n",
        "import datetime\n",
        "reference_date = max(df.InvoiceDate) + datetime.timedelta(days=1)\n",
        "reference_date"
      ],
      "execution_count": 33,
      "outputs": [
        {
          "output_type": "execute_result",
          "data": {
            "text/plain": [
              "Timestamp('2011-12-10 12:49:00')"
            ]
          },
          "metadata": {
            "tags": []
          },
          "execution_count": 33
        }
      ]
    },
    {
      "cell_type": "markdown",
      "metadata": {
        "id": "V9EdEv5ILyt9",
        "colab_type": "text"
      },
      "source": [
        "### Calculating RFM metrics:\n",
        "- First we will aggregate our dataset on CustomerID\n",
        "- Then we will perform aggregatation for each unqiue customer ID to calculate RFM values as given below\n",
        "  1. **Recency:** On InvoiceDate column, we will select the max innvoice date of each customer i.e the Latest Transaction Date and Subtract it from our Date of Analysis i.e. current_date value using a Lambda Function.\n",
        "\n",
        "      This will give us the Recency in number of Days i.e Number of Days since last Transaction\n",
        "  2. **Frequency:** For frequency, we will count the number of times invoice has been generated for each customer.\n",
        "\n",
        "      This will give us total number of times the customer has shopped with us in last 12 Months.\n",
        "\n",
        "  3. **MonetaryValue:** For Monetary Value metric, we will use the BillAmount column generated in previous section and take sum of billAmounts for each customer.\n",
        "\n",
        "      This will give us the Total Revenue Generated per customer.\n",
        "\n",
        "    \n",
        "    Let's perform this using pandas groupby functionality:"
      ]
    },
    {
      "cell_type": "code",
      "metadata": {
        "id": "RJU6fh8WLzb4",
        "colab_type": "code",
        "colab": {
          "base_uri": "https://localhost:8080/",
          "height": 235
        },
        "outputId": "a3616358-2aa4-4403-dd98-f2f379b532db"
      },
      "source": [
        "# Generating the RFM values using groupby method\n",
        "df_RFM = df.groupby(['CustomerID']).agg({\n",
        "    'InvoiceDate': lambda x: (reference_date - x.max()).days,\n",
        "    'InvoiceNo': 'count',\n",
        "    'BillAmount': 'sum'})\n",
        "\n",
        "# Printing top 5 Rows of df_RFM\n",
        "df_RFM.head()"
      ],
      "execution_count": 34,
      "outputs": [
        {
          "output_type": "execute_result",
          "data": {
            "text/html": [
              "<div>\n",
              "<style scoped>\n",
              "    .dataframe tbody tr th:only-of-type {\n",
              "        vertical-align: middle;\n",
              "    }\n",
              "\n",
              "    .dataframe tbody tr th {\n",
              "        vertical-align: top;\n",
              "    }\n",
              "\n",
              "    .dataframe thead th {\n",
              "        text-align: right;\n",
              "    }\n",
              "</style>\n",
              "<table border=\"1\" class=\"dataframe\">\n",
              "  <thead>\n",
              "    <tr style=\"text-align: right;\">\n",
              "      <th></th>\n",
              "      <th>InvoiceDate</th>\n",
              "      <th>InvoiceNo</th>\n",
              "      <th>BillAmount</th>\n",
              "    </tr>\n",
              "    <tr>\n",
              "      <th>CustomerID</th>\n",
              "      <th></th>\n",
              "      <th></th>\n",
              "      <th></th>\n",
              "    </tr>\n",
              "  </thead>\n",
              "  <tbody>\n",
              "    <tr>\n",
              "      <th>12747</th>\n",
              "      <td>2</td>\n",
              "      <td>27</td>\n",
              "      <td>992.82</td>\n",
              "    </tr>\n",
              "    <tr>\n",
              "      <th>12748</th>\n",
              "      <td>1</td>\n",
              "      <td>967</td>\n",
              "      <td>7522.06</td>\n",
              "    </tr>\n",
              "    <tr>\n",
              "      <th>12749</th>\n",
              "      <td>4</td>\n",
              "      <td>37</td>\n",
              "      <td>813.45</td>\n",
              "    </tr>\n",
              "    <tr>\n",
              "      <th>12820</th>\n",
              "      <td>3</td>\n",
              "      <td>17</td>\n",
              "      <td>268.02</td>\n",
              "    </tr>\n",
              "    <tr>\n",
              "      <th>12822</th>\n",
              "      <td>71</td>\n",
              "      <td>9</td>\n",
              "      <td>146.15</td>\n",
              "    </tr>\n",
              "  </tbody>\n",
              "</table>\n",
              "</div>"
            ],
            "text/plain": [
              "            InvoiceDate  InvoiceNo  BillAmount\n",
              "CustomerID                                    \n",
              "12747                 2         27      992.82\n",
              "12748                 1        967     7522.06\n",
              "12749                 4         37      813.45\n",
              "12820                 3         17      268.02\n",
              "12822                71          9      146.15"
            ]
          },
          "metadata": {
            "tags": []
          },
          "execution_count": 34
        }
      ]
    },
    {
      "cell_type": "markdown",
      "metadata": {
        "id": "tz9X4dQv4N-a",
        "colab_type": "text"
      },
      "source": [
        "As you can see RFM values has been generated for each column but the name of columns is not Correct.\n",
        "\n",
        "Let's Rename the columns of dataframe df_RFM according to the values stored in them."
      ]
    },
    {
      "cell_type": "code",
      "metadata": {
        "id": "K2WR2ZF_4D__",
        "colab_type": "code",
        "colab": {
          "base_uri": "https://localhost:8080/",
          "height": 235
        },
        "outputId": "091a86a5-879e-4cd3-9ff7-aa09371c75db"
      },
      "source": [
        "# Renaming columns of df_RFM\n",
        "df_RFM.rename(columns = {'InvoiceDate': 'Recency',\n",
        "                           'InvoiceNo': 'Frequency',\n",
        "                           'BillAmount': 'MonetaryValue'}, inplace=True)\n",
        "# Printing top 5 Rows of df_RFM\n",
        "df_RFM.head()"
      ],
      "execution_count": 35,
      "outputs": [
        {
          "output_type": "execute_result",
          "data": {
            "text/html": [
              "<div>\n",
              "<style scoped>\n",
              "    .dataframe tbody tr th:only-of-type {\n",
              "        vertical-align: middle;\n",
              "    }\n",
              "\n",
              "    .dataframe tbody tr th {\n",
              "        vertical-align: top;\n",
              "    }\n",
              "\n",
              "    .dataframe thead th {\n",
              "        text-align: right;\n",
              "    }\n",
              "</style>\n",
              "<table border=\"1\" class=\"dataframe\">\n",
              "  <thead>\n",
              "    <tr style=\"text-align: right;\">\n",
              "      <th></th>\n",
              "      <th>Recency</th>\n",
              "      <th>Frequency</th>\n",
              "      <th>MonetaryValue</th>\n",
              "    </tr>\n",
              "    <tr>\n",
              "      <th>CustomerID</th>\n",
              "      <th></th>\n",
              "      <th></th>\n",
              "      <th></th>\n",
              "    </tr>\n",
              "  </thead>\n",
              "  <tbody>\n",
              "    <tr>\n",
              "      <th>12747</th>\n",
              "      <td>2</td>\n",
              "      <td>27</td>\n",
              "      <td>992.82</td>\n",
              "    </tr>\n",
              "    <tr>\n",
              "      <th>12748</th>\n",
              "      <td>1</td>\n",
              "      <td>967</td>\n",
              "      <td>7522.06</td>\n",
              "    </tr>\n",
              "    <tr>\n",
              "      <th>12749</th>\n",
              "      <td>4</td>\n",
              "      <td>37</td>\n",
              "      <td>813.45</td>\n",
              "    </tr>\n",
              "    <tr>\n",
              "      <th>12820</th>\n",
              "      <td>3</td>\n",
              "      <td>17</td>\n",
              "      <td>268.02</td>\n",
              "    </tr>\n",
              "    <tr>\n",
              "      <th>12822</th>\n",
              "      <td>71</td>\n",
              "      <td>9</td>\n",
              "      <td>146.15</td>\n",
              "    </tr>\n",
              "  </tbody>\n",
              "</table>\n",
              "</div>"
            ],
            "text/plain": [
              "            Recency  Frequency  MonetaryValue\n",
              "CustomerID                                   \n",
              "12747             2         27         992.82\n",
              "12748             1        967        7522.06\n",
              "12749             4         37         813.45\n",
              "12820             3         17         268.02\n",
              "12822            71          9         146.15"
            ]
          },
          "metadata": {
            "tags": []
          },
          "execution_count": 35
        }
      ]
    },
    {
      "cell_type": "markdown",
      "metadata": {
        "id": "E3vm1oskUV7f",
        "colab_type": "text"
      },
      "source": [
        "\n"
      ]
    },
    {
      "cell_type": "markdown",
      "metadata": {
        "id": "YupdfhKpUV2s",
        "colab_type": "text"
      },
      "source": [
        "### Process of calculating percentiles:\n",
        "\n",
        "Sort customers based on that metric\n",
        "Break customers into a pre-defined number of groups of equal size\n",
        "Assign a label to each group\n",
        "\n",
        "\n",
        "Highest score to the best metric - best is not always highest e.g. recency\n",
        "In this case, the label is inverse - the more recent the customer, the better"
      ]
    },
    {
      "cell_type": "code",
      "metadata": {
        "id": "I7kHAr4nUXQI",
        "colab_type": "code",
        "colab": {}
      },
      "source": [
        ""
      ],
      "execution_count": 0,
      "outputs": []
    }
  ]
}